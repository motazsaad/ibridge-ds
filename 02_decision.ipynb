{
 "cells": [
  {
   "cell_type": "markdown",
   "metadata": {},
   "source": [
    "# Decisions in Python (control strucrture) / conditional exection "
   ]
  },
  {
   "cell_type": "markdown",
   "metadata": {},
   "source": [
    "Python statements:\n",
    "1. sequential \n",
    "2. conditional \n",
    "3. repeated "
   ]
  },
  {
   "cell_type": "markdown",
   "metadata": {},
   "source": [
    "#  conditional \n",
    "## one way decision "
   ]
  },
  {
   "cell_type": "code",
   "execution_count": 2,
   "metadata": {},
   "outputs": [
    {
     "name": "stdout",
     "output_type": "stream",
     "text": [
      "x is big\n",
      "x is so big\n",
      "done\n"
     ]
    }
   ],
   "source": [
    "x = 10 \n",
    "if x > 3:\n",
    "    print('x is big')\n",
    "    print(\"x is so big\")\n",
    "print('done')"
   ]
  },
  {
   "cell_type": "code",
   "execution_count": 3,
   "metadata": {},
   "outputs": [
    {
     "name": "stdout",
     "output_type": "stream",
     "text": [
      "done\n"
     ]
    }
   ],
   "source": [
    "x = 2 \n",
    "if x > 3:\n",
    "    print('x is big')\n",
    "    print(\"x is so big\")\n",
    "print('done')"
   ]
  },
  {
   "cell_type": "code",
   "execution_count": null,
   "metadata": {},
   "outputs": [],
   "source": [
    "x = 10 \n",
    "if x > 3:\n",
    "    print('x is big')\n",
    "    print(\"x is so big\")\n",
    "    if x > 20:\n",
    "        print('x i so so big')\n",
    "print('done')"
   ]
  },
  {
   "cell_type": "markdown",
   "metadata": {},
   "source": [
    "#  conditional \n",
    "## two way decision "
   ]
  },
  {
   "cell_type": "code",
   "execution_count": 5,
   "metadata": {},
   "outputs": [
    {
     "name": "stdout",
     "output_type": "stream",
     "text": [
      "x is big\n",
      "x is so big\n",
      "done\n"
     ]
    }
   ],
   "source": [
    "x = 10 \n",
    "if x > 3: # true x>3\n",
    "    print('x is big')\n",
    "    print(\"x is so big\")\n",
    "else: # false x<=3 \n",
    "    print('x is small')\n",
    "print('done')"
   ]
  },
  {
   "cell_type": "code",
   "execution_count": 6,
   "metadata": {},
   "outputs": [
    {
     "name": "stdout",
     "output_type": "stream",
     "text": [
      "x is small\n",
      "done\n"
     ]
    }
   ],
   "source": [
    "x = 2 \n",
    "if x > 3: # true x>3\n",
    "    print('x is big')\n",
    "    print(\"x is so big\")\n",
    "else: # false x<=3 \n",
    "    print('x is small')\n",
    "print('done')"
   ]
  },
  {
   "cell_type": "code",
   "execution_count": 7,
   "metadata": {},
   "outputs": [
    {
     "name": "stdout",
     "output_type": "stream",
     "text": [
      "x is big\n",
      "x is so big\n",
      "done\n",
      "20\n"
     ]
    }
   ],
   "source": [
    "x = 10 \n",
    "if x > 3: # true x>3\n",
    "    print('x is big')\n",
    "    print(\"x is so big\")\n",
    "    y = 20\n",
    "else: # false x<=3 \n",
    "    print('x is small')\n",
    "print('done')\n",
    "print(y)"
   ]
  },
  {
   "cell_type": "code",
   "execution_count": 1,
   "metadata": {},
   "outputs": [
    {
     "name": "stdout",
     "output_type": "stream",
     "text": [
      "x is small\n",
      "done\n"
     ]
    },
    {
     "ename": "NameError",
     "evalue": "name 'y' is not defined",
     "output_type": "error",
     "traceback": [
      "\u001b[1;31m----------------------------------------------------------------------\u001b[0m",
      "\u001b[1;31mNameError\u001b[0m                            Traceback (most recent call last)",
      "\u001b[1;32m<ipython-input-1-777487ab717d>\u001b[0m in \u001b[0;36m<module>\u001b[1;34m\u001b[0m\n\u001b[0;32m      7\u001b[0m     \u001b[0mprint\u001b[0m\u001b[1;33m(\u001b[0m\u001b[1;34m'x is small'\u001b[0m\u001b[1;33m)\u001b[0m\u001b[1;33m\u001b[0m\u001b[0m\n\u001b[0;32m      8\u001b[0m \u001b[0mprint\u001b[0m\u001b[1;33m(\u001b[0m\u001b[1;34m'done'\u001b[0m\u001b[1;33m)\u001b[0m\u001b[1;33m\u001b[0m\u001b[0m\n\u001b[1;32m----> 9\u001b[1;33m \u001b[0mprint\u001b[0m\u001b[1;33m(\u001b[0m\u001b[0my\u001b[0m\u001b[1;33m)\u001b[0m\u001b[1;33m\u001b[0m\u001b[0m\n\u001b[0m",
      "\u001b[1;31mNameError\u001b[0m: name 'y' is not defined"
     ]
    }
   ],
   "source": [
    "x = 2 \n",
    "if x > 3: # true x>3\n",
    "    print('x is big')\n",
    "    print(\"x is so big\")\n",
    "    y = 20\n",
    "else: # false x<=3 \n",
    "    print('x is small')\n",
    "print('done')\n",
    "print(y)"
   ]
  },
  {
   "cell_type": "markdown",
   "metadata": {},
   "source": [
    "#  conditional \n",
    "## multiway way decision "
   ]
  },
  {
   "cell_type": "code",
   "execution_count": 3,
   "metadata": {},
   "outputs": [
    {
     "name": "stdout",
     "output_type": "stream",
     "text": [
      "x is small\n",
      "done\n"
     ]
    }
   ],
   "source": [
    "x = 2 \n",
    "if x > 3: # true x>3\n",
    "    print('x is big')\n",
    "    print(\"x is so big\")\n",
    "elif x < 2: # false x<=3 and x < 2 \n",
    "    print('so so small')\n",
    "else:    \n",
    "    print('x is small')\n",
    "print('done')"
   ]
  },
  {
   "cell_type": "code",
   "execution_count": null,
   "metadata": {},
   "outputs": [],
   "source": []
  }
 ],
 "metadata": {
  "kernelspec": {
   "display_name": "Python 3",
   "language": "python",
   "name": "python3"
  },
  "language_info": {
   "codemirror_mode": {
    "name": "ipython",
    "version": 3
   },
   "file_extension": ".py",
   "mimetype": "text/x-python",
   "name": "python",
   "nbconvert_exporter": "python",
   "pygments_lexer": "ipython3",
   "version": "3.7.0"
  }
 },
 "nbformat": 4,
 "nbformat_minor": 2
}
