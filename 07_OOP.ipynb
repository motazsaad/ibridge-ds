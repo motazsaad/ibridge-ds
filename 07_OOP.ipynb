{
 "cells": [
  {
   "cell_type": "markdown",
   "metadata": {},
   "source": [
    "# Object Oriented Programming (OOP)\n",
    "\n",
    "* reuse instead of rewrite \n",
    "* break the software into modules "
   ]
  },
  {
   "cell_type": "code",
   "execution_count": 10,
   "metadata": {},
   "outputs": [],
   "source": [
    "class A:\n",
    "    pass \n",
    "\n",
    "class B:\n",
    "    pass "
   ]
  },
  {
   "cell_type": "code",
   "execution_count": 11,
   "metadata": {},
   "outputs": [],
   "source": [
    "class Scientist:\n",
    "    def __init__(self, name=None, major='CS'):\n",
    "        self.name = name \n",
    "        self.major = major\n",
    "    def __str__(self):\n",
    "        return 'Scientist: name: {}\\tmajor: {}'.format(self.name, self.major)\n",
    "    def teach(self):\n",
    "        print('I am teaching ...')\n",
    "    def do_research(self):\n",
    "        print('I am doing research')\n",
    "    def walk(self):\n",
    "        print('I am walking')\n",
    "        "
   ]
  },
  {
   "cell_type": "code",
   "execution_count": 12,
   "metadata": {},
   "outputs": [
    {
     "name": "stdout",
     "output_type": "stream",
     "text": [
      "Scientist: name: None\tmajor: CS\n"
     ]
    }
   ],
   "source": [
    "s1 = Scientist()\n",
    "print(s1)"
   ]
  },
  {
   "cell_type": "code",
   "execution_count": 13,
   "metadata": {},
   "outputs": [
    {
     "name": "stdout",
     "output_type": "stream",
     "text": [
      "Scientist: name: Ahmed\tmajor: IT\n"
     ]
    }
   ],
   "source": [
    "s2 = Scientist('Ahmed', 'IT')\n",
    "print(s2)"
   ]
  },
  {
   "cell_type": "code",
   "execution_count": 14,
   "metadata": {},
   "outputs": [
    {
     "name": "stdout",
     "output_type": "stream",
     "text": [
      "Scientist: name: Ali\tmajor: Eng\n"
     ]
    }
   ],
   "source": [
    "s3 = Scientist(name='Ali', major='Eng')\n",
    "print(s3)"
   ]
  },
  {
   "cell_type": "code",
   "execution_count": 15,
   "metadata": {},
   "outputs": [
    {
     "name": "stdout",
     "output_type": "stream",
     "text": [
      "Scientist: name: Hasan\tmajor: Math\n"
     ]
    }
   ],
   "source": [
    "s4 = Scientist(major='Math', name='Hasan')\n",
    "print(s4)"
   ]
  },
  {
   "cell_type": "code",
   "execution_count": 16,
   "metadata": {},
   "outputs": [
    {
     "name": "stdout",
     "output_type": "stream",
     "text": [
      "I am walking\n"
     ]
    }
   ],
   "source": [
    "s4.walk()"
   ]
  },
  {
   "cell_type": "code",
   "execution_count": 17,
   "metadata": {},
   "outputs": [],
   "source": [
    "class rectangle:\n",
    "    def __init__(self, h=0,l=0):\n",
    "        self.__h = h\n",
    "        self.l = l\n",
    "    def area(self):\n",
    "        return self.h * self.l\n",
    "    def set_h(self,h):\n",
    "        if h > 0:\n",
    "            self.h = h\n",
    "        else:\n",
    "            h = 0"
   ]
  },
  {
   "cell_type": "code",
   "execution_count": 19,
   "metadata": {},
   "outputs": [
    {
     "name": "stdout",
     "output_type": "stream",
     "text": [
      "12\n",
      "40\n"
     ]
    }
   ],
   "source": [
    "r1 = rectangle(3,4)\n",
    "print(r1.area())\n",
    "r1.h = 10\n",
    "print(r1.area())"
   ]
  },
  {
   "cell_type": "code",
   "execution_count": 20,
   "metadata": {},
   "outputs": [
    {
     "data": {
      "text/plain": [
       "['__class__',\n",
       " '__delattr__',\n",
       " '__dict__',\n",
       " '__dir__',\n",
       " '__doc__',\n",
       " '__eq__',\n",
       " '__format__',\n",
       " '__ge__',\n",
       " '__getattribute__',\n",
       " '__gt__',\n",
       " '__hash__',\n",
       " '__init__',\n",
       " '__init_subclass__',\n",
       " '__le__',\n",
       " '__lt__',\n",
       " '__module__',\n",
       " '__ne__',\n",
       " '__new__',\n",
       " '__reduce__',\n",
       " '__reduce_ex__',\n",
       " '__repr__',\n",
       " '__setattr__',\n",
       " '__sizeof__',\n",
       " '__str__',\n",
       " '__subclasshook__',\n",
       " '__weakref__',\n",
       " 'area',\n",
       " 'h',\n",
       " 'l']"
      ]
     },
     "execution_count": 20,
     "metadata": {},
     "output_type": "execute_result"
    }
   ],
   "source": [
    "dir(r1)"
   ]
  },
  {
   "cell_type": "markdown",
   "metadata": {},
   "source": [
    "# inheritance "
   ]
  },
  {
   "cell_type": "code",
   "execution_count": 28,
   "metadata": {},
   "outputs": [],
   "source": [
    "class A:\n",
    "    def __init__(self, x=10):\n",
    "        self.x = x \n",
    "\n",
    "class B(A):\n",
    "    def __init__(self, x=30, y=40):\n",
    "        super().__init__(x)\n",
    "        self.y = y "
   ]
  },
  {
   "cell_type": "code",
   "execution_count": 29,
   "metadata": {},
   "outputs": [
    {
     "name": "stdout",
     "output_type": "stream",
     "text": [
      "30\n",
      "40\n"
     ]
    }
   ],
   "source": [
    "b1 = B()\n",
    "print(b1.x)\n",
    "print(b1.y)"
   ]
  },
  {
   "cell_type": "code",
   "execution_count": null,
   "metadata": {},
   "outputs": [],
   "source": []
  }
 ],
 "metadata": {
  "kernelspec": {
   "display_name": "Python 3",
   "language": "python",
   "name": "python3"
  },
  "language_info": {
   "codemirror_mode": {
    "name": "ipython",
    "version": 3
   },
   "file_extension": ".py",
   "mimetype": "text/x-python",
   "name": "python",
   "nbconvert_exporter": "python",
   "pygments_lexer": "ipython3",
   "version": "3.7.0"
  }
 },
 "nbformat": 4,
 "nbformat_minor": 2
}
